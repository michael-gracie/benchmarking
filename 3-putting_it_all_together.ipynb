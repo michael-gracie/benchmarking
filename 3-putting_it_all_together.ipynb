{
 "cells": [
  {
   "cell_type": "code",
   "execution_count": 35,
   "metadata": {},
   "outputs": [],
   "source": [
    "from time import sleep, time\n",
    "import ast\n",
    "from io import StringIO\n",
    "import inspect\n",
    "import re"
   ]
  },
  {
   "cell_type": "code",
   "execution_count": 36,
   "metadata": {},
   "outputs": [],
   "source": [
    "def sleep_long():\n",
    "    sleep(5) "
   ]
  },
  {
   "cell_type": "code",
   "execution_count": 37,
   "metadata": {},
   "outputs": [],
   "source": [
    "def sleep_short():\n",
    "    sleep(1)"
   ]
  },
  {
   "cell_type": "code",
   "execution_count": 38,
   "metadata": {},
   "outputs": [],
   "source": [
    "def my_func():\n",
    "    sleep_long()\n",
    "    sleep_short()\n",
    "    return None"
   ]
  },
  {
   "cell_type": "markdown",
   "metadata": {},
   "source": [
    "## Lets use the AST to easily create our benchmarking function"
   ]
  },
  {
   "cell_type": "markdown",
   "metadata": {},
   "source": [
    "#### Getting our function as a string"
   ]
  },
  {
   "cell_type": "code",
   "execution_count": 39,
   "metadata": {},
   "outputs": [],
   "source": [
    "func = inspect.getsource(my_func)"
   ]
  },
  {
   "cell_type": "code",
   "execution_count": 40,
   "metadata": {},
   "outputs": [
    {
     "data": {
      "text/plain": [
       "'def my_func():\\n    sleep_long()\\n    sleep_short()\\n    return None\\n'"
      ]
     },
     "execution_count": 40,
     "metadata": {},
     "output_type": "execute_result"
    }
   ],
   "source": [
    "func"
   ]
  },
  {
   "cell_type": "code",
   "execution_count": 41,
   "metadata": {},
   "outputs": [],
   "source": [
    "tree = ast.parse(StringIO(func).read())"
   ]
  },
  {
   "cell_type": "code",
   "execution_count": 42,
   "metadata": {
    "scrolled": false
   },
   "outputs": [
    {
     "data": {
      "text/plain": [
       "\"Expr(value=Call(func=Name(id='sleep_long', ctx=Load()), args=[], keywords=[]))\""
      ]
     },
     "execution_count": 42,
     "metadata": {},
     "output_type": "execute_result"
    }
   ],
   "source": [
    "ast.dump(tree.body[0].body[0])"
   ]
  },
  {
   "cell_type": "markdown",
   "metadata": {},
   "source": [
    "#### Getting information about each of the first braches and creating a new first layer of branches"
   ]
  },
  {
   "cell_type": "code",
   "execution_count": 43,
   "metadata": {},
   "outputs": [],
   "source": [
    "def parse_dump(string):\n",
    "    '''\n",
    "    Gets information from the AST dump and return the AST object and the id\n",
    "    '''\n",
    "    re1 = \"id='(.*?)',\"\n",
    "    return string.split('(')[0] + ' - ' + re.search(re1, string).group(1)"
   ]
  },
  {
   "cell_type": "code",
   "execution_count": 44,
   "metadata": {},
   "outputs": [],
   "source": [
    "performance = dict()\n",
    "t = 0\n",
    "new_first_layer = list()\n",
    "for node in tree.body[0].body:\n",
    "    if node.__class__ != ast.Return:\n",
    "        node_dump = ast.dump(node)\n",
    "        parsed_dump = parse_dump(node_dump)\n",
    "        performance[parsed_dump] = list()\n",
    "        start_time = ast.parse(f\"t{t} = time()\").body[0]\n",
    "        t+=1\n",
    "        end_time = ast.parse(f\"t{t} = time()\").body[0]\n",
    "        dif = ast.parse(f\"performance['{parsed_dump}'].append(t{t}-t{t-1})\").body[0]\n",
    "        new_first_layer.extend([start_time, node, end_time, dif])\n",
    "        t+=1\n",
    "    else:\n",
    "        new_first_layer.extend([node])"
   ]
  },
  {
   "cell_type": "code",
   "execution_count": 45,
   "metadata": {},
   "outputs": [
    {
     "data": {
      "text/plain": [
       "{'Expr - sleep_long': [], 'Expr - sleep_short': []}"
      ]
     },
     "execution_count": 45,
     "metadata": {},
     "output_type": "execute_result"
    }
   ],
   "source": [
    "performance"
   ]
  },
  {
   "cell_type": "code",
   "execution_count": 46,
   "metadata": {
    "scrolled": false
   },
   "outputs": [],
   "source": [
    "tree.body[0].body = new_first_layer"
   ]
  },
  {
   "cell_type": "markdown",
   "metadata": {},
   "source": [
    "#### Creating function as benchmark"
   ]
  },
  {
   "cell_type": "code",
   "execution_count": 47,
   "metadata": {},
   "outputs": [],
   "source": [
    "tree.body[0].name = f'benchmark_{tree.body[0].name}'"
   ]
  },
  {
   "cell_type": "code",
   "execution_count": 48,
   "metadata": {
    "scrolled": false
   },
   "outputs": [
    {
     "data": {
      "text/plain": [
       "[<_ast.Assign at 0x10bcd3ef0>,\n",
       " <_ast.Expr at 0x10bcd3da0>,\n",
       " <_ast.Assign at 0x10bcd3588>,\n",
       " <_ast.Expr at 0x10b7540b8>,\n",
       " <_ast.Assign at 0x10b753358>,\n",
       " <_ast.Expr at 0x10bcd38d0>,\n",
       " <_ast.Assign at 0x10bcf1ef0>,\n",
       " <_ast.Expr at 0x10bcf1470>,\n",
       " <_ast.Return at 0x10bcd37f0>]"
      ]
     },
     "execution_count": 48,
     "metadata": {},
     "output_type": "execute_result"
    }
   ],
   "source": [
    "tree.body[0].body"
   ]
  },
  {
   "cell_type": "code",
   "execution_count": 49,
   "metadata": {},
   "outputs": [],
   "source": [
    "exec(compile(tree, filename=\"<ast>\", mode=\"exec\"))"
   ]
  },
  {
   "cell_type": "code",
   "execution_count": 50,
   "metadata": {},
   "outputs": [],
   "source": [
    "benchmark_my_func()"
   ]
  },
  {
   "cell_type": "code",
   "execution_count": 51,
   "metadata": {
    "scrolled": true
   },
   "outputs": [
    {
     "data": {
      "text/plain": [
       "{'Expr - sleep_long': [5.004082918167114],\n",
       " 'Expr - sleep_short': [1.0002343654632568]}"
      ]
     },
     "execution_count": 51,
     "metadata": {},
     "output_type": "execute_result"
    }
   ],
   "source": [
    "performance"
   ]
  },
  {
   "cell_type": "markdown",
   "metadata": {},
   "source": [
    "## Let's benchmark"
   ]
  },
  {
   "cell_type": "code",
   "execution_count": 52,
   "metadata": {},
   "outputs": [],
   "source": [
    "for i in range(0,5):\n",
    "    benchmark_my_func()"
   ]
  },
  {
   "cell_type": "code",
   "execution_count": 53,
   "metadata": {},
   "outputs": [
    {
     "data": {
      "text/plain": [
       "{'Expr - sleep_long': [5.004082918167114,\n",
       "  5.003403186798096,\n",
       "  5.003105163574219,\n",
       "  5.0036091804504395,\n",
       "  5.003881931304932,\n",
       "  5.000932693481445],\n",
       " 'Expr - sleep_short': [1.0002343654632568,\n",
       "  1.0043470859527588,\n",
       "  1.002871036529541,\n",
       "  1.0050911903381348,\n",
       "  1.0010039806365967,\n",
       "  1.0013761520385742]}"
      ]
     },
     "execution_count": 53,
     "metadata": {},
     "output_type": "execute_result"
    }
   ],
   "source": [
    "performance"
   ]
  },
  {
   "cell_type": "markdown",
   "metadata": {},
   "source": [
    "## Lets create a function to accept any function"
   ]
  },
  {
   "cell_type": "code",
   "execution_count": 54,
   "metadata": {},
   "outputs": [],
   "source": [
    "def create_benchmark_func(tree, performance):\n",
    "    t = 0\n",
    "    new_first_layer = list()\n",
    "    for node in tree.body[0].body:\n",
    "        if node.__class__ != ast.Return:\n",
    "            node_dump = ast.dump(node)\n",
    "            parsed_dump = parse_dump(node_dump)\n",
    "            performance[parsed_dump] = list()\n",
    "            start_time = ast.parse(f\"t{t} = time()\").body[0]\n",
    "            t+=1\n",
    "            end_time = ast.parse(f\"t{t} = time()\").body[0]\n",
    "            dif = ast.parse(f\"performance['{parsed_dump}'].append(t{t}-t{t-1})\").body[0]\n",
    "            new_first_layer.extend([start_time, node, end_time, dif])\n",
    "            t+=1\n",
    "        else:\n",
    "            new_first_layer.extend([node]) \n",
    "    tree.body[0].body = new_first_layer\n",
    "    tree.body[0].name = f'benchmark_{tree.body[0].name}'\n",
    "    return tree"
   ]
  },
  {
   "cell_type": "code",
   "execution_count": 55,
   "metadata": {},
   "outputs": [],
   "source": [
    "def benchmark(func, iteration, *args, **kwargs):\n",
    "    func_str = inspect.getsource(func)\n",
    "    tree = ast.parse(StringIO(func_str).read())\n",
    "    global performance\n",
    "    performance = dict()\n",
    "    exec(compile(create_benchmark_func(tree, performance), filename=\"<ast>\", mode=\"exec\"))\n",
    "    for i in range(iteration):\n",
    "        args_str = ', '.join(args)\n",
    "        kwargs_str = ', '.join('%s=%r' % x for x in kwargs.items())\n",
    "        eval(f'benchmark_{func.__name__}({args_str+kwargs_str})')\n",
    "    return performance"
   ]
  },
  {
   "cell_type": "code",
   "execution_count": 56,
   "metadata": {},
   "outputs": [
    {
     "data": {
      "text/plain": [
       "{'Expr - sleep_long': [5.003541946411133],\n",
       " 'Expr - sleep_short': [1.0012168884277344]}"
      ]
     },
     "execution_count": 56,
     "metadata": {},
     "output_type": "execute_result"
    }
   ],
   "source": [
    "benchmark(my_func, 1)"
   ]
  },
  {
   "cell_type": "code",
   "execution_count": 57,
   "metadata": {},
   "outputs": [],
   "source": [
    "def hello(string):\n",
    "    print(f'hello_{string}')"
   ]
  },
  {
   "cell_type": "code",
   "execution_count": 59,
   "metadata": {},
   "outputs": [
    {
     "name": "stdout",
     "output_type": "stream",
     "text": [
      "hello_world\n",
      "hello_world\n",
      "hello_world\n",
      "hello_world\n",
      "hello_world\n"
     ]
    },
    {
     "data": {
      "text/plain": [
       "{'Expr - print': [0.00010776519775390625,\n",
       "  4.601478576660156e-05,\n",
       "  4.506111145019531e-05,\n",
       "  4.506111145019531e-05,\n",
       "  4.410743713378906e-05]}"
      ]
     },
     "execution_count": 59,
     "metadata": {},
     "output_type": "execute_result"
    }
   ],
   "source": [
    "benchmark(hello, 5, \"'world'\")"
   ]
  }
 ],
 "metadata": {
  "kernelspec": {
   "display_name": "Python 3",
   "language": "python",
   "name": "python3"
  },
  "language_info": {
   "codemirror_mode": {
    "name": "ipython",
    "version": 3
   },
   "file_extension": ".py",
   "mimetype": "text/x-python",
   "name": "python",
   "nbconvert_exporter": "python",
   "pygments_lexer": "ipython3",
   "version": "3.7.3"
  }
 },
 "nbformat": 4,
 "nbformat_minor": 2
}
