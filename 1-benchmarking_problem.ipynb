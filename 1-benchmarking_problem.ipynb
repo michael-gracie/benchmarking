{
 "cells": [
  {
   "cell_type": "code",
   "execution_count": 23,
   "metadata": {},
   "outputs": [],
   "source": [
    "from time import sleep, time"
   ]
  },
  {
   "cell_type": "markdown",
   "metadata": {},
   "source": [
    "## Problem: I want to understand what part of my function is taking the longest"
   ]
  },
  {
   "cell_type": "code",
   "execution_count": 24,
   "metadata": {},
   "outputs": [],
   "source": [
    "def sleep_long():\n",
    "    sleep(5) "
   ]
  },
  {
   "cell_type": "code",
   "execution_count": 25,
   "metadata": {},
   "outputs": [],
   "source": [
    "def sleep_short():\n",
    "    sleep(1)"
   ]
  },
  {
   "cell_type": "code",
   "execution_count": 26,
   "metadata": {},
   "outputs": [],
   "source": [
    "def my_func():\n",
    "    sleep_long()\n",
    "    sleep_short()"
   ]
  },
  {
   "cell_type": "markdown",
   "metadata": {},
   "source": [
    "## Solution: I can time each step of the function to understand what is causing the performance issues"
   ]
  },
  {
   "cell_type": "code",
   "execution_count": 27,
   "metadata": {},
   "outputs": [],
   "source": [
    "performance = {'sleep_long()':[],'sleep_short()':[]}\n",
    "def my_func():\n",
    "    t0 = time()\n",
    "    sleep_long()\n",
    "    t1 = time()\n",
    "    performance['sleep_long()'].append(t1-t0)\n",
    "    sleep_short()\n",
    "    t2 = time()\n",
    "    performance['sleep_short()'].append(t2-t1)"
   ]
  },
  {
   "cell_type": "code",
   "execution_count": 28,
   "metadata": {},
   "outputs": [],
   "source": [
    "for i in range(0,5):\n",
    "    my_func()"
   ]
  },
  {
   "cell_type": "code",
   "execution_count": 29,
   "metadata": {},
   "outputs": [
    {
     "data": {
      "text/plain": [
       "{'sleep_long()': [5.003786087036133,\n",
       "  5.000016212463379,\n",
       "  5.001528739929199,\n",
       "  5.001565217971802,\n",
       "  5.001669883728027],\n",
       " 'sleep_short()': [1.0030179023742676,\n",
       "  1.001561164855957,\n",
       "  1.005100965499878,\n",
       "  1.0031728744506836,\n",
       "  1.0022211074829102]}"
      ]
     },
     "execution_count": 29,
     "metadata": {},
     "output_type": "execute_result"
    }
   ],
   "source": [
    "performance"
   ]
  },
  {
   "cell_type": "markdown",
   "metadata": {},
   "source": [
    "**If I want to test this on many functions I need to figure out how to parse my_func() to add my time statements**"
   ]
  }
 ],
 "metadata": {
  "kernelspec": {
   "display_name": "Python 3",
   "language": "python",
   "name": "python3"
  },
  "language_info": {
   "codemirror_mode": {
    "name": "ipython",
    "version": 3
   },
   "file_extension": ".py",
   "mimetype": "text/x-python",
   "name": "python",
   "nbconvert_exporter": "python",
   "pygments_lexer": "ipython3",
   "version": "3.7.3"
  }
 },
 "nbformat": 4,
 "nbformat_minor": 2
}
